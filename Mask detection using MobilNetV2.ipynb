{
 "cells": [
  {
   "cell_type": "code",
   "execution_count": 1,
   "id": "454bd4b4",
   "metadata": {},
   "outputs": [],
   "source": [
    "import tensorflow as tf\n",
    "from tensorflow.keras import Model\n",
    "from tensorflow.keras.preprocessing.image import ImageDataGenerator\n",
    "from tensorflow.keras.applications import MobileNetV2\n",
    "from tensorflow.keras.layers import Flatten , Dropout , Dense , Input , AveragePooling2D\n",
    "from tensorflow.keras.optimizers import Adam\n",
    "from tensorflow.keras.applications.mobilenet_v2 import preprocess_input\n",
    "from tensorflow.keras.preprocessing.image import img_to_array\n",
    "from tensorflow.keras.preprocessing.image import load_img\n",
    "from tensorflow.keras.utils import to_categorical\n",
    "from sklearn.preprocessing import LabelBinarizer\n",
    "from sklearn.model_selection import train_test_split\n",
    "from sklearn.metrics import classification_report\n",
    "from imutils import paths\n",
    "import numpy as np\n",
    "import matplotlib.pyplot as plt\n",
    "import os\n",
    "import warnings\n",
    "warnings.filterwarnings('ignore')"
   ]
  },
  {
   "cell_type": "code",
   "execution_count": 2,
   "id": "1f56ce74",
   "metadata": {},
   "outputs": [
    {
     "name": "stdout",
     "output_type": "stream",
     "text": [
      "loading images -------\n"
     ]
    }
   ],
   "source": [
    "LEARNING_RATE = 1e-4\n",
    "EPOCHS = 20\n",
    "BATCH_SIZE = 32\n",
    "DIRECTORY = 'D:\\dataset'\n",
    "CATEGORIES = ['with_mask' , 'without_mask']\n",
    "print('loading images -------')\n",
    "data = []\n",
    "labels = []\n",
    "\n",
    "for category in CATEGORIES :\n",
    "    path = os.path.join(DIRECTORY,category)\n",
    "    for img in os.listdir(path):\n",
    "        img_path = os.path.join(path,img)\n",
    "        image = load_img(img_path,target_size=(224,224))\n",
    "        image = img_to_array(image)\n",
    "        image = preprocess_input(image)\n",
    "        data.append(image)\n",
    "        labels.append(category)"
   ]
  },
  {
   "cell_type": "code",
   "execution_count": 3,
   "id": "5b4ee72d",
   "metadata": {},
   "outputs": [],
   "source": [
    "lb =  LabelBinarizer()\n",
    "labels = lb.fit_transform(labels)\n",
    "labels =  to_categorical(labels)\n",
    "data = np.array(data,dtype = 'float32')\n",
    "labels = np.array(labels)\n",
    "X_train, X_test, y_train, y_test = train_test_split(data,labels,test_size=0.2 , stratify=labels , random_state=42)"
   ]
  },
  {
   "cell_type": "code",
   "execution_count": 4,
   "id": "0b205db2",
   "metadata": {},
   "outputs": [],
   "source": [
    "aug = ImageDataGenerator(rotation_range=20,\n",
    "                        zoom_range=0.15,\n",
    "                        width_shift_range=0.2,\n",
    "                        height_shift_range=0.2,\n",
    "                        shear_range=0.15,\n",
    "                        horizontal_flip=True,\n",
    "                        fill_mode='nearest')"
   ]
  },
  {
   "cell_type": "code",
   "execution_count": 5,
   "id": "729e3303",
   "metadata": {},
   "outputs": [
    {
     "name": "stdout",
     "output_type": "stream",
     "text": [
      "WARNING:tensorflow:`input_shape` is undefined or non-square, or `rows` is not in [96, 128, 160, 192, 224]. Weights for input shape (224, 224) will be loaded as the default.\n"
     ]
    }
   ],
   "source": [
    "basemodel = MobileNetV2(weights='imagenet',include_top=False,\n",
    "                       input_tensor=Input(shape=(224,224,3)))\n",
    "headModel = basemodel.output\n",
    "headModel = AveragePooling2D(pool_size=(7,7))(headModel)\n",
    "headModel = Flatten(name ='Flatten' )(headModel)\n",
    "headModel = Dense(128,activation='relu')(headModel)\n",
    "headModel = Dropout(0.5)(headModel)\n",
    "headModel = Dense(2,activation='softmax')(headModel)\n",
    "model = Model(inputs = basemodel.input , outputs=headModel)"
   ]
  },
  {
   "cell_type": "code",
   "execution_count": 6,
   "id": "b73612d6",
   "metadata": {},
   "outputs": [
    {
     "name": "stdout",
     "output_type": "stream",
     "text": [
      "Epoch 1/20\n",
      "95/95 [==============================] - 87s 861ms/step - loss: 0.4383 - accuracy: 0.8154 - val_loss: 0.1744 - val_accuracy: 0.9777\n",
      "Epoch 2/20\n",
      "95/95 [==============================] - 75s 784ms/step - loss: 0.1624 - accuracy: 0.9622 - val_loss: 0.0873 - val_accuracy: 0.9869\n",
      "Epoch 3/20\n",
      "95/95 [==============================] - 73s 770ms/step - loss: 0.1035 - accuracy: 0.9731 - val_loss: 0.0603 - val_accuracy: 0.9908\n",
      "Epoch 4/20\n",
      "95/95 [==============================] - 77s 815ms/step - loss: 0.0853 - accuracy: 0.9748 - val_loss: 0.0510 - val_accuracy: 0.9895\n",
      "Epoch 5/20\n",
      "95/95 [==============================] - 77s 811ms/step - loss: 0.0667 - accuracy: 0.9804 - val_loss: 0.0452 - val_accuracy: 0.9908\n",
      "Epoch 6/20\n",
      "95/95 [==============================] - 77s 811ms/step - loss: 0.0574 - accuracy: 0.9854 - val_loss: 0.0421 - val_accuracy: 0.9908\n",
      "Epoch 7/20\n",
      "95/95 [==============================] - 78s 825ms/step - loss: 0.0497 - accuracy: 0.9854 - val_loss: 0.0389 - val_accuracy: 0.9908\n",
      "Epoch 8/20\n",
      "95/95 [==============================] - 82s 866ms/step - loss: 0.0507 - accuracy: 0.9847 - val_loss: 0.0386 - val_accuracy: 0.9908\n",
      "Epoch 9/20\n",
      "95/95 [==============================] - 74s 774ms/step - loss: 0.0455 - accuracy: 0.9880 - val_loss: 0.0350 - val_accuracy: 0.9908\n",
      "Epoch 10/20\n",
      "95/95 [==============================] - 74s 776ms/step - loss: 0.0463 - accuracy: 0.9871 - val_loss: 0.0322 - val_accuracy: 0.9934\n",
      "Epoch 11/20\n",
      "95/95 [==============================] - 76s 796ms/step - loss: 0.0411 - accuracy: 0.9887 - val_loss: 0.0330 - val_accuracy: 0.9895\n",
      "Epoch 12/20\n",
      "95/95 [==============================] - 75s 788ms/step - loss: 0.0384 - accuracy: 0.9887 - val_loss: 0.0292 - val_accuracy: 0.9947\n",
      "Epoch 13/20\n",
      "95/95 [==============================] - 73s 766ms/step - loss: 0.0357 - accuracy: 0.9907 - val_loss: 0.0298 - val_accuracy: 0.9934\n",
      "Epoch 14/20\n",
      "95/95 [==============================] - 83s 877ms/step - loss: 0.0316 - accuracy: 0.9914 - val_loss: 0.0269 - val_accuracy: 0.9947\n",
      "Epoch 15/20\n",
      "95/95 [==============================] - 71s 751ms/step - loss: 0.0327 - accuracy: 0.9924 - val_loss: 0.0363 - val_accuracy: 0.9895\n",
      "Epoch 16/20\n",
      "95/95 [==============================] - 74s 776ms/step - loss: 0.0305 - accuracy: 0.9907 - val_loss: 0.0327 - val_accuracy: 0.9882\n",
      "Epoch 17/20\n",
      "95/95 [==============================] - 75s 792ms/step - loss: 0.0296 - accuracy: 0.9897 - val_loss: 0.0252 - val_accuracy: 0.9947\n",
      "Epoch 18/20\n",
      "95/95 [==============================] - 75s 784ms/step - loss: 0.0241 - accuracy: 0.9930 - val_loss: 0.0247 - val_accuracy: 0.9947\n",
      "Epoch 19/20\n",
      "95/95 [==============================] - 71s 749ms/step - loss: 0.0301 - accuracy: 0.9924 - val_loss: 0.0271 - val_accuracy: 0.9934\n",
      "Epoch 20/20\n",
      "95/95 [==============================] - 70s 738ms/step - loss: 0.0284 - accuracy: 0.9924 - val_loss: 0.0255 - val_accuracy: 0.9961\n"
     ]
    }
   ],
   "source": [
    "for layer in basemodel.layers :\n",
    "    layer.trainable =  False\n",
    "optm = Adam(learning_rate = LEARNING_RATE )\n",
    "model.compile(loss='binary_crossentropy' , optimizer = optm , metrics = ['accuracy'])\n",
    "H =  model.fit(aug.flow(X_train , y_train , batch_size=BATCH_SIZE),\n",
    "              steps_per_epoch=len(X_train) // BATCH_SIZE,\n",
    "              validation_data=(X_test,y_test),\n",
    "              validation_steps=len(X_test) // BATCH_SIZE ,\n",
    "              epochs = EPOCHS)"
   ]
  },
  {
   "cell_type": "code",
   "execution_count": 7,
   "id": "6ad7bb3e",
   "metadata": {},
   "outputs": [
    {
     "data": {
      "image/png": "[encoded data removed]",
      "text/plain": [
       "<Figure size 640x480 with 1 Axes>"
      ]
     },
     "metadata": {},
     "output_type": "display_data"
    }
   ],
   "source": [
    "import keras\n",
    "from matplotlib import pyplot as plt\n",
    "plt.plot(H.history['accuracy'])\n",
    "plt.plot(H.history['val_accuracy'])\n",
    "plt.plot(H.history['loss'])\n",
    "plt.plot(H.history['val_loss'])\n",
    "\n",
    "plt.title('model accuracy')\n",
    "plt.ylabel('accuracy')\n",
    "plt.xlabel('epoch')\n",
    "plt.legend(['train', 'val' , 'train_loss' , 'val_loss'], loc='upper right')\n",
    "plt.show()"
   ]
  },
  {
   "cell_type": "code",
   "execution_count": 8,
   "id": "54e55ca0",
   "metadata": {},
   "outputs": [
    {
     "name": "stdout",
     "output_type": "stream",
     "text": [
      "input_1 False\n",
      "Conv1 False\n",
      "bn_Conv1 False\n",
      "Conv1_relu False\n",
      "expanded_conv_depthwise False\n",
      "expanded_conv_depthwise_BN False\n",
      "expanded_conv_depthwise_relu False\n",
      "expanded_conv_project False\n",
      "expanded_conv_project_BN False\n",
      "block_1_expand False\n",
      "block_1_expand_BN False\n",
      "block_1_expand_relu False\n",
      "block_1_pad False\n",
      "block_1_depthwise False\n",
      "block_1_depthwise_BN False\n",
      "block_1_depthwise_relu False\n",
      "block_1_project False\n",
      "block_1_project_BN False\n",
      "block_2_expand False\n",
      "block_2_expand_BN False\n",
      "block_2_expand_relu False\n",
      "block_2_depthwise False\n",
      "block_2_depthwise_BN False\n",
      "block_2_depthwise_relu False\n",
      "block_2_project False\n",
      "block_2_project_BN False\n",
      "block_2_add False\n",
      "block_3_expand False\n",
      "block_3_expand_BN False\n",
      "block_3_expand_relu False\n",
      "block_3_pad False\n",
      "block_3_depthwise False\n",
      "block_3_depthwise_BN False\n",
      "block_3_depthwise_relu False\n",
      "block_3_project False\n",
      "block_3_project_BN False\n",
      "block_4_expand False\n",
      "block_4_expand_BN False\n",
      "block_4_expand_relu False\n",
      "block_4_depthwise False\n",
      "block_4_depthwise_BN False\n",
      "block_4_depthwise_relu False\n",
      "block_4_project False\n",
      "block_4_project_BN False\n",
      "block_4_add False\n",
      "block_5_expand False\n",
      "block_5_expand_BN False\n",
      "block_5_expand_relu False\n",
      "block_5_depthwise False\n",
      "block_5_depthwise_BN False\n",
      "block_5_depthwise_relu False\n",
      "block_5_project False\n",
      "block_5_project_BN False\n",
      "block_5_add False\n",
      "block_6_expand False\n",
      "block_6_expand_BN False\n",
      "block_6_expand_relu False\n",
      "block_6_pad False\n",
      "block_6_depthwise False\n",
      "block_6_depthwise_BN False\n",
      "block_6_depthwise_relu False\n",
      "block_6_project False\n",
      "block_6_project_BN False\n",
      "block_7_expand False\n",
      "block_7_expand_BN False\n",
      "block_7_expand_relu False\n",
      "block_7_depthwise False\n",
      "block_7_depthwise_BN False\n",
      "block_7_depthwise_relu False\n",
      "block_7_project False\n",
      "block_7_project_BN False\n",
      "block_7_add False\n",
      "block_8_expand False\n",
      "block_8_expand_BN False\n",
      "block_8_expand_relu False\n",
      "block_8_depthwise False\n",
      "block_8_depthwise_BN False\n",
      "block_8_depthwise_relu False\n",
      "block_8_project False\n",
      "block_8_project_BN False\n",
      "block_8_add False\n",
      "block_9_expand False\n",
      "block_9_expand_BN False\n",
      "block_9_expand_relu False\n",
      "block_9_depthwise False\n",
      "block_9_depthwise_BN False\n",
      "block_9_depthwise_relu False\n",
      "block_9_project False\n",
      "block_9_project_BN False\n",
      "block_9_add False\n",
      "block_10_expand False\n",
      "block_10_expand_BN False\n",
      "block_10_expand_relu False\n",
      "block_10_depthwise False\n",
      "block_10_depthwise_BN False\n",
      "block_10_depthwise_relu False\n",
      "block_10_project False\n",
      "block_10_project_BN False\n",
      "block_11_expand False\n",
      "block_11_expand_BN False\n",
      "block_11_expand_relu False\n",
      "block_11_depthwise False\n",
      "block_11_depthwise_BN False\n",
      "block_11_depthwise_relu False\n",
      "block_11_project False\n",
      "block_11_project_BN False\n",
      "block_11_add False\n",
      "block_12_expand False\n",
      "block_12_expand_BN False\n",
      "block_12_expand_relu False\n",
      "block_12_depthwise False\n",
      "block_12_depthwise_BN False\n",
      "block_12_depthwise_relu False\n",
      "block_12_project False\n",
      "block_12_project_BN False\n",
      "block_12_add False\n",
      "block_13_expand False\n",
      "block_13_expand_BN False\n",
      "block_13_expand_relu False\n",
      "block_13_pad False\n",
      "block_13_depthwise False\n",
      "block_13_depthwise_BN False\n",
      "block_13_depthwise_relu False\n",
      "block_13_project False\n",
      "block_13_project_BN False\n",
      "block_14_expand False\n",
      "block_14_expand_BN False\n",
      "block_14_expand_relu False\n",
      "block_14_depthwise False\n",
      "block_14_depthwise_BN False\n",
      "block_14_depthwise_relu False\n",
      "block_14_project False\n",
      "block_14_project_BN False\n",
      "block_14_add False\n",
      "block_15_expand False\n",
      "block_15_expand_BN False\n",
      "block_15_expand_relu False\n",
      "block_15_depthwise False\n",
      "block_15_depthwise_BN False\n",
      "block_15_depthwise_relu False\n",
      "block_15_project False\n",
      "block_15_project_BN False\n",
      "block_15_add False\n",
      "block_16_expand False\n",
      "block_16_expand_BN False\n",
      "block_16_expand_relu False\n",
      "block_16_depthwise False\n",
      "block_16_depthwise_BN False\n",
      "block_16_depthwise_relu False\n",
      "block_16_project False\n",
      "block_16_project_BN False\n",
      "Conv_1 False\n",
      "Conv_1_bn False\n",
      "out_relu False\n",
      "average_pooling2d True\n",
      "Flatten True\n",
      "dense True\n",
      "dropout True\n",
      "dense_1 True\n"
     ]
    }
   ],
   "source": [
    "for l in model.layers:\n",
    "    print(l.name , l.trainable)"
   ]
  },
  {
   "cell_type": "code",
   "execution_count": 9,
   "id": "90972feb",
   "metadata": {},
   "outputs": [
    {
     "name": "stdout",
     "output_type": "stream",
     "text": [
      "24/24 [==============================] - 13s 458ms/step\n"
     ]
    }
   ],
   "source": [
    "prediction = model.predict(X_test , batch_size = BATCH_SIZE)\n",
    "pred_max = np.argmax(prediction,axis = 1)"
   ]
  },
  {
   "cell_type": "code",
   "execution_count": 10,
   "id": "6df67805",
   "metadata": {},
   "outputs": [
    {
     "name": "stdout",
     "output_type": "stream",
     "text": [
      "              precision    recall  f1-score   support\n",
      "\n",
      "   with_mask       0.99      1.00      1.00       377\n",
      "without_mask       1.00      0.99      1.00       384\n",
      "\n",
      "    accuracy                           1.00       761\n",
      "   macro avg       1.00      1.00      1.00       761\n",
      "weighted avg       1.00      1.00      1.00       761\n",
      "\n"
     ]
    }
   ],
   "source": [
    "print(classification_report(y_test.argmax(axis=1) , pred_max , target_names=lb.classes_))"
   ]
  },
  {
   "cell_type": "code",
   "execution_count": 11,
   "id": "7f2159a5",
   "metadata": {},
   "outputs": [],
   "source": [
    "model.save('mask_detector.model',save_format ='h5')"
   ]
  }
 ],
 "metadata": {
  "kernelspec": {
   "display_name": "Python 3 (ipykernel)",
   "language": "python",
   "name": "python3"
  },
  "language_info": {
   "codemirror_mode": {
    "name": "ipython",
    "version": 3
   },
   "file_extension": ".py",
   "mimetype": "text/x-python",
   "name": "python",
   "nbconvert_exporter": "python",
   "pygments_lexer": "ipython3",
   "version": "3.11.3"
  }
 },
 "nbformat": 4,
 "nbformat_minor": 5
}
