{
 "cells": [
  {
   "cell_type": "code",
   "execution_count": 1,
   "id": "a9ac3547",
   "metadata": {},
   "outputs": [],
   "source": [
    "import tensorflow as tf\n",
    "from tensorflow.keras.applications.mobilenet_v2 import preprocess_input\n",
    "from tensorflow.keras.preprocessing.image import img_to_array\n",
    "from tensorflow.keras.models import load_model\n",
    "from imutils.video import VideoStream\n",
    "import numpy as np\n",
    "import imutils\n",
    "import cv2\n",
    "import os \n",
    "import warnings\n",
    "warnings.filterwarnings('ignore')"
   ]
  },
  {
   "cell_type": "code",
   "execution_count": 2,
   "id": "6d534b0f",
   "metadata": {},
   "outputs": [
    {
     "data": {
      "text/plain": [
       "'C:\\\\Users\\\\Mostafa\\\\Downloads\\\\Artificial Intelligence\\\\MobileNet'"
      ]
     },
     "execution_count": 2,
     "metadata": {},
     "output_type": "execute_result"
    }
   ],
   "source": [
    "pwd"
   ]
  },
  {
   "cell_type": "code",
   "execution_count": 5,
   "id": "c60f83c3",
   "metadata": {},
   "outputs": [
    {
     "data": {
      "text/plain": [
       "['deploy.prototxt',\n",
       " 'mask_detector.model',\n",
       " 'res10_300x300_ssd_iter_140000.caffemodel']"
      ]
     },
     "execution_count": 5,
     "metadata": {},
     "output_type": "execute_result"
    }
   ],
   "source": [
    "os.listdir()"
   ]
  },
  {
   "cell_type": "code",
   "execution_count": 7,
   "id": "c1fed69c",
   "metadata": {},
   "outputs": [
    {
     "data": {
      "text/plain": [
       "'D:\\\\cvdata\\\\new\\\\deploy.prototxt'"
      ]
     },
     "execution_count": 7,
     "metadata": {},
     "output_type": "execute_result"
    }
   ],
   "source": [
    "prototxtPath"
   ]
  },
  {
   "cell_type": "code",
   "execution_count": 18,
   "id": "072f9c96",
   "metadata": {},
   "outputs": [
    {
     "data": {
      "text/plain": [
       "'D:\\\\cvdata\\\\new\\\\res10_300x300_ssd_iter_140000.caffemodel'"
      ]
     },
     "execution_count": 18,
     "metadata": {},
     "output_type": "execute_result"
    }
   ],
   "source": [
    "weightsPath"
   ]
  },
  {
   "cell_type": "code",
   "execution_count": 3,
   "id": "5e329af1",
   "metadata": {},
   "outputs": [],
   "source": [
    "os.chdir(r'D:\\cvdata\\new')"
   ]
  },
  {
   "cell_type": "code",
   "execution_count": 4,
   "id": "70e7054c",
   "metadata": {},
   "outputs": [
    {
     "data": {
      "text/plain": [
       "'D:\\\\cvdata\\\\new'"
      ]
     },
     "execution_count": 4,
     "metadata": {},
     "output_type": "execute_result"
    }
   ],
   "source": [
    "pwd"
   ]
  },
  {
   "cell_type": "code",
   "execution_count": 19,
   "id": "7c6d7008",
   "metadata": {},
   "outputs": [],
   "source": [
    "def detect_and_predict_mask(frame,faceNet , maskNet):\n",
    "    (h,w) = frame.shape[:2]\n",
    "    blob = cv2.dnn.blobFromImage(frame,1.0,(224,224),(104.0 , 177.0, 123.0))\n",
    "    faceNet.setInput(blob)\n",
    "    detections = faceNet.forward()\n",
    "    faces = []\n",
    "    locs = []\n",
    "    preds = []\n",
    "    for i in range(0,detections.shape[2]):\n",
    "        confidence = detections[0,0,i,2]\n",
    "        if confidence > 0.5 :\n",
    "            box = detections[0,0,i,3:7] * np.array([w,h,w,h])\n",
    "            (startX,startY,endX,endY) = box.astype('int')\n",
    "            (startX,startY) = (max(0,startX),max(0,startY))\n",
    "            (endX,endY) = (min(w-1,endX) , min(h-1 , endY))\n",
    "\n",
    "            face = frame[startY:endY , startX:endX]\n",
    "            face = cv2.cvtColor(face,cv2.COLOR_BGR2RGB)\n",
    "            face = cv2.resize(face,(224,224))\n",
    "            face = img_to_array(face)\n",
    "            face = preprocess_input(face)\n",
    "        \n",
    "            faces.append(face)\n",
    "            locs.append(startX,startY,endX ,endY)\n",
    "        \n",
    "    if len(faces) > 0 :\n",
    "        faces = np.array(faces,dtype ='float32')\n",
    "        preds = maskNet.predict(faces,batch_size = 32)\n",
    "    return (locs , preds)  "
   ]
  },
  {
   "cell_type": "code",
   "execution_count": 20,
   "id": "d8a6855b",
   "metadata": {},
   "outputs": [],
   "source": [
    "prototxtPath = os.path.join(os.getcwd(), 'D:\\\\cvdata\\\\new', 'deploy.prototxt')\n",
    "weightsPath = os.path.join(os.getcwd(), 'D:\\\\cvdata\\\\new', 'res10_300x300_ssd_iter_140000.caffemodel')\n",
    "faceNet = cv2.dnn.readNet(prototxtPath, weightsPath)\n",
    "maskNet = load_model(\"mask_detector.model\")"
   ]
  },
  {
   "cell_type": "code",
   "execution_count": 21,
   "id": "6fe360ac",
   "metadata": {},
   "outputs": [
    {
     "ename": "error",
     "evalue": "OpenCV(4.8.1) D:\\a\\opencv-python\\opencv-python\\opencv\\modules\\dnn\\src\\layers\\convolution_layer.cpp:389: error: (-215:Assertion failed) !blobs.empty() || inputs.size() > 1 in function 'cv::dnn::ConvolutionLayerImpl::getMemoryShapes'\n",
     "output_type": "error",
     "traceback": [
      "\u001b[1;31m---------------------------------------------------------------------------\u001b[0m",
      "\u001b[1;31merror\u001b[0m                                     Traceback (most recent call last)",
      "Cell \u001b[1;32mIn[21], line 6\u001b[0m\n\u001b[0;32m      3\u001b[0m frame \u001b[38;5;241m=\u001b[39m vs\u001b[38;5;241m.\u001b[39mread()\n\u001b[0;32m      4\u001b[0m frame \u001b[38;5;241m=\u001b[39m imutils\u001b[38;5;241m.\u001b[39mresize(frame,width\u001b[38;5;241m=\u001b[39m\u001b[38;5;241m400\u001b[39m)\n\u001b[1;32m----> 6\u001b[0m (locs,preds) \u001b[38;5;241m=\u001b[39m detect_and_predict_mask(frame, faceNet, maskNet)\n\u001b[0;32m      8\u001b[0m \u001b[38;5;28;01mfor\u001b[39;00m (box,pred) \u001b[38;5;129;01min\u001b[39;00m \u001b[38;5;28mzip\u001b[39m(locs,preds):\n\u001b[0;32m      9\u001b[0m     ( startX , startY , endX , endY ) \u001b[38;5;241m=\u001b[39m box\n",
      "Cell \u001b[1;32mIn[19], line 5\u001b[0m, in \u001b[0;36mdetect_and_predict_mask\u001b[1;34m(frame, faceNet, maskNet)\u001b[0m\n\u001b[0;32m      3\u001b[0m blob \u001b[38;5;241m=\u001b[39m cv2\u001b[38;5;241m.\u001b[39mdnn\u001b[38;5;241m.\u001b[39mblobFromImage(frame,\u001b[38;5;241m1.0\u001b[39m,(\u001b[38;5;241m224\u001b[39m,\u001b[38;5;241m224\u001b[39m),(\u001b[38;5;241m104.0\u001b[39m , \u001b[38;5;241m177.0\u001b[39m, \u001b[38;5;241m123.0\u001b[39m))\n\u001b[0;32m      4\u001b[0m faceNet\u001b[38;5;241m.\u001b[39msetInput(blob)\n\u001b[1;32m----> 5\u001b[0m detections \u001b[38;5;241m=\u001b[39m faceNet\u001b[38;5;241m.\u001b[39mforward()\n\u001b[0;32m      6\u001b[0m faces \u001b[38;5;241m=\u001b[39m []\n\u001b[0;32m      7\u001b[0m locs \u001b[38;5;241m=\u001b[39m []\n",
      "\u001b[1;31merror\u001b[0m: OpenCV(4.8.1) D:\\a\\opencv-python\\opencv-python\\opencv\\modules\\dnn\\src\\layers\\convolution_layer.cpp:389: error: (-215:Assertion failed) !blobs.empty() || inputs.size() > 1 in function 'cv::dnn::ConvolutionLayerImpl::getMemoryShapes'\n"
     ]
    }
   ],
   "source": [
    "vs = VideoStream(src=0).start()\n",
    "while True :\n",
    "    frame = vs.read()\n",
    "    frame = imutils.resize(frame,width=400)\n",
    "    \n",
    "    (locs , preds) = detect_and_predict_mask(frame, faceNet, maskNet)\n",
    "    \n",
    "    for (box,pred) in zip(locs,preds):\n",
    "        ( startX , startY , endX , endY ) = box\n",
    "        (mask,withoutMask) = pred\n",
    "        \n",
    "        label = 'mask' if mask > withoutMask else  'no mask'\n",
    "        color = (0,255,0) if label== 'mask' else (0,0,255)\n",
    "        \n",
    "        label = '{}:{:.2f}%'.format(label , max(mask,withoutMask) * 100)\n",
    "        \n",
    "        cv2.putText(frame,label ,(startX,startY-10),\n",
    "                   cv2.FONT_HERSHEY_COMPLEX , 0.45 ,color ,2)\n",
    "        cv2.rectangle(frame,(startX,startY),(endX,endY) ,color , 2)\n",
    "    cv2.imshow('frame',frame)\n",
    "    key = cv2.waitKey(1)\n",
    "    if key == ord('q'):\n",
    "        break\n",
    "cv2.destroyAllWindows()\n",
    "vs.stop()"
   ]
  },
  {
   "cell_type": "code",
   "execution_count": null,
   "id": "0a19e876",
   "metadata": {},
   "outputs": [],
   "source": []
  }
 ],
 "metadata": {
  "kernelspec": {
   "display_name": "Python 3 (ipykernel)",
   "language": "python",
   "name": "python3"
  },
  "language_info": {
   "codemirror_mode": {
    "name": "ipython",
    "version": 3
   },
   "file_extension": ".py",
   "mimetype": "text/x-python",
   "name": "python",
   "nbconvert_exporter": "python",
   "pygments_lexer": "ipython3",
   "version": "3.11.3"
  }
 },
 "nbformat": 4,
 "nbformat_minor": 5
}
